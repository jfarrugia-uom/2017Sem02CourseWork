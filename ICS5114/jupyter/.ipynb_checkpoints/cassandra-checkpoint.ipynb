{
 "cells": [
  {
   "cell_type": "code",
   "execution_count": 1,
   "metadata": {},
   "outputs": [
    {
     "ename": "ImportError",
     "evalue": "No module named cassandra.cluster",
     "output_type": "error",
     "traceback": [
      "\u001b[0;31m---------------------------------------------------------------------------\u001b[0m",
      "\u001b[0;31mImportError\u001b[0m                               Traceback (most recent call last)",
      "\u001b[0;32m<ipython-input-1-63384d950afc>\u001b[0m in \u001b[0;36m<module>\u001b[0;34m()\u001b[0m\n\u001b[0;32m----> 1\u001b[0;31m \u001b[0;32mfrom\u001b[0m \u001b[0mcassandra\u001b[0m\u001b[0;34m.\u001b[0m\u001b[0mcluster\u001b[0m \u001b[0;32mimport\u001b[0m \u001b[0mCluster\u001b[0m\u001b[0;34m\u001b[0m\u001b[0m\n\u001b[0m\u001b[1;32m      2\u001b[0m \u001b[0;32mimport\u001b[0m \u001b[0muuid\u001b[0m\u001b[0;34m\u001b[0m\u001b[0m\n",
      "\u001b[0;31mImportError\u001b[0m: No module named cassandra.cluster"
     ]
    }
   ],
   "source": [
    "from cassandra.cluster import Cluster\n",
    "import uuid"
   ]
  },
  {
   "cell_type": "markdown",
   "metadata": {},
   "source": [
    "Tested on (from ```cqlsh``` header):\n",
    "\n",
    "```[cqlsh 5.0.1 | Cassandra 3.0.9 | CQL spec 3.4.0 | Native protocol v4]```"
   ]
  },
  {
   "cell_type": "code",
   "execution_count": 2,
   "metadata": {},
   "outputs": [
    {
     "data": {
      "text/plain": [
       "<cassandra.cluster.ResultSet at 0x7f1d12724c50>"
      ]
     },
     "execution_count": 2,
     "metadata": {},
     "output_type": "execute_result"
    }
   ],
   "source": [
    "# you need to connect first using sudo cassandra -f otherwise connection err\n",
    "cluster = Cluster(['127.0.0.1']) # can support multiple IPs\n",
    "session = cluster.connect()\n",
    "keyspace = \"ict\"\n",
    "\n",
    "# this is for cleaning\n",
    "session.execute(\"DROP KEYSPACE IF EXISTS %s\" % keyspace)\n"
   ]
  },
  {
   "cell_type": "code",
   "execution_count": 3,
   "metadata": {},
   "outputs": [
    {
     "data": {
      "text/plain": [
       "<cassandra.cluster.ResultSet at 0x7f1d1278ed50>"
      ]
     },
     "execution_count": 3,
     "metadata": {},
     "output_type": "execute_result"
    }
   ],
   "source": [
    "# create the ict keyspace\n",
    "session.execute(\"\"\"\n",
    "        CREATE KEYSPACE %s\n",
    "        WITH replication = { 'class': 'SimpleStrategy', 'replication_factor': '1' }\n",
    "        \"\"\" % keyspace)"
   ]
  },
  {
   "cell_type": "code",
   "execution_count": 4,
   "metadata": {},
   "outputs": [],
   "source": [
    "# use it \n",
    "session.set_keyspace(keyspace)"
   ]
  },
  {
   "cell_type": "code",
   "execution_count": 5,
   "metadata": {},
   "outputs": [
    {
     "data": {
      "text/plain": [
       "<cassandra.cluster.ResultSet at 0x7f1d127a5110>"
      ]
     },
     "execution_count": 5,
     "metadata": {},
     "output_type": "execute_result"
    }
   ],
   "source": [
    "# remove the data stores if this already exists (perhaps a previous run)\n",
    "session.execute(\"drop table if exists student\")\n",
    "session.execute(\"\"\"\n",
    "        CREATE TABLE student (\n",
    "            studid uuid,\n",
    "            name text,\n",
    "            surname text,\n",
    "            email text,\n",
    "            PRIMARY KEY (studid)\n",
    "        )\n",
    "        \"\"\")"
   ]
  },
  {
   "cell_type": "code",
   "execution_count": 6,
   "metadata": {},
   "outputs": [
    {
     "data": {
      "text/plain": [
       "<cassandra.cluster.ResultSet at 0x7f1d127b6110>"
      ]
     },
     "execution_count": 6,
     "metadata": {},
     "output_type": "execute_result"
    }
   ],
   "source": [
    "# uuid is generated from python module with same name\n",
    "session.execute(\n",
    "    \"\"\"\n",
    "    INSERT INTO student (name, surname, email, studid)\n",
    "    VALUES (%s, %s, %s, %s)\n",
    "    \"\"\",\n",
    "    (\"Stephen\", \"Camilleri\", \"dc@facebook.com\", uuid.uuid1())\n",
    ")"
   ]
  },
  {
   "cell_type": "code",
   "execution_count": 7,
   "metadata": {},
   "outputs": [
    {
     "name": "stdout",
     "output_type": "stream",
     "text": [
      "Stephen Camilleri dc@facebook.com\n"
     ]
    }
   ],
   "source": [
    "# get the student and pri\n",
    "rows = session.execute('SELECT studid, name, surname, email FROM student')\n",
    "for stud in rows:\n",
    "    print stud.name, stud.surname, stud.email"
   ]
  },
  {
   "cell_type": "code",
   "execution_count": 8,
   "metadata": {},
   "outputs": [],
   "source": [
    "## async\n",
    "\n",
    "def handle_success(rows):\n",
    "    stud = rows[0]\n",
    "    print stud.name, stud.surname, stud.studid\n",
    "\n",
    "def handle_error(exception):\n",
    "    print exception\n",
    "\n",
    "# sometimes (mostly the first time) nothing is shown here.  Why?  hint: async\n",
    "future = session.execute_async('SELECT studid, name, surname, email FROM student')\n",
    "future.add_callbacks(handle_success, handle_error)"
   ]
  },
  {
   "cell_type": "markdown",
   "metadata": {},
   "source": [
    "Doing a delete without specifying the primary key would mean Cassandra would have to first do the distributed search to get all of the records. Then internally issue the delete for all of those records. While it would be possible to implement, it is very different from the current write path inside Cassandra.  Good to know limitations."
   ]
  },
  {
   "cell_type": "code",
   "execution_count": 9,
   "metadata": {},
   "outputs": [
    {
     "name": "stdout",
     "output_type": "stream",
     "text": [
      "Stephen Camilleri 3ea1ba8e-291f-11e7-a441-305a3a08d257\n"
     ]
    },
    {
     "ename": "InvalidRequest",
     "evalue": "Error from server: code=2200 [Invalid query] message=\"Some partition key parts are missing: studid\"",
     "output_type": "error",
     "traceback": [
      "\u001b[0;31m---------------------------------------------------------------------------\u001b[0m",
      "\u001b[0;31mInvalidRequest\u001b[0m                            Traceback (most recent call last)",
      "\u001b[0;32m<ipython-input-9-de0d929e5a71>\u001b[0m in \u001b[0;36m<module>\u001b[0;34m()\u001b[0m\n\u001b[0;32m----> 1\u001b[0;31m \u001b[0msession\u001b[0m\u001b[0;34m.\u001b[0m\u001b[0mexecute\u001b[0m\u001b[0;34m(\u001b[0m\u001b[0;34m\"delete from student where name = 'Stephen'\"\u001b[0m\u001b[0;34m)\u001b[0m \u001b[0;31m# this does not work, why?\u001b[0m\u001b[0;34m\u001b[0m\u001b[0m\n\u001b[0m",
      "\u001b[0;32m/usr/local/lib/python2.7/dist-packages/cassandra/cluster.so\u001b[0m in \u001b[0;36mcassandra.cluster.Session.execute (cassandra/cluster.c:34869)\u001b[0;34m()\u001b[0m\n",
      "\u001b[0;32m/usr/local/lib/python2.7/dist-packages/cassandra/cluster.so\u001b[0m in \u001b[0;36mcassandra.cluster.ResponseFuture.result (cassandra/cluster.c:73073)\u001b[0;34m()\u001b[0m\n",
      "\u001b[0;31mInvalidRequest\u001b[0m: Error from server: code=2200 [Invalid query] message=\"Some partition key parts are missing: studid\""
     ]
    }
   ],
   "source": [
    "session.execute(\"delete from student where name = 'Stephen'\") # this does not work, why?\n"
   ]
  },
  {
   "cell_type": "code",
   "execution_count": 10,
   "metadata": {},
   "outputs": [
    {
     "name": "stdout",
     "output_type": "stream",
     "text": [
      "3ea1ba8e-291f-11e7-a441-305a3a08d257\n"
     ]
    }
   ],
   "source": [
    "result = session.execute(\"select * from student\")\n",
    "for r in result:\n",
    "    print r.studid"
   ]
  },
  {
   "cell_type": "code",
   "execution_count": 11,
   "metadata": {},
   "outputs": [
    {
     "data": {
      "text/plain": [
       "<cassandra.cluster.ResultSet at 0x7f1d18049bd0>"
      ]
     },
     "execution_count": 11,
     "metadata": {},
     "output_type": "execute_result"
    }
   ],
   "source": [
    "session.execute(\"delete from student where studid = %s\" % r.studid) # this works"
   ]
  },
  {
   "cell_type": "code",
   "execution_count": 12,
   "metadata": {},
   "outputs": [],
   "source": [
    "result = session.execute(\"select * from student\") # Stephen, gone with the wind\n",
    "for r in result:\n",
    "    print r.studid"
   ]
  },
  {
   "cell_type": "code",
   "execution_count": null,
   "metadata": {
    "collapsed": true
   },
   "outputs": [],
   "source": []
  }
 ],
 "metadata": {
  "anaconda-cloud": {},
  "kernelspec": {
   "display_name": "Python 2",
   "language": "python",
   "name": "python2"
  },
  "language_info": {
   "codemirror_mode": {
    "name": "ipython",
    "version": 2
   },
   "file_extension": ".py",
   "mimetype": "text/x-python",
   "name": "python",
   "nbconvert_exporter": "python",
   "pygments_lexer": "ipython2",
   "version": "2.7.12"
  }
 },
 "nbformat": 4,
 "nbformat_minor": 1
}
