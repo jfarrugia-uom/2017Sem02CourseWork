{
 "cells": [
  {
   "cell_type": "code",
   "execution_count": 1,
   "metadata": {},
   "outputs": [],
   "source": [
    "import pymongo # this gives a security warning in some cases"
   ]
  },
  {
   "cell_type": "code",
   "execution_count": 2,
   "metadata": {},
   "outputs": [],
   "source": [
    "client = pymongo.MongoClient('mongodb://localhost:27017/') # connect to DS\n",
    "client.database_names() # show names\n",
    "if 'big_data_processing' in client.database_names(): # if data_science already exists, drop\n",
    "    client.drop_database('big_data_processing')"
   ]
  },
  {
   "cell_type": "code",
   "execution_count": 3,
   "metadata": {},
   "outputs": [
    {
     "data": {
      "text/plain": [
       "Database(MongoClient(host=['localhost:27017'], document_class=dict, tz_aware=False, connect=True), u'big_data_processing')"
      ]
     },
     "execution_count": 3,
     "metadata": {},
     "output_type": "execute_result"
    }
   ],
   "source": [
    "\n",
    "db = client.big_data_processing\n",
    "db"
   ]
  },
  {
   "cell_type": "code",
   "execution_count": 4,
   "metadata": {},
   "outputs": [
    {
     "data": {
      "text/plain": [
       "{'author': 'Charlot',\n",
       " 'cmd': 'line.lower()',\n",
       " 'date': datetime.datetime(2017, 5, 7, 15, 48, 44, 550100),\n",
       " 'hw': 'Word Count',\n",
       " 'tags': ['MapReduce', 'word', 'count', 'normalization']}"
      ]
     },
     "execution_count": 4,
     "metadata": {},
     "output_type": "execute_result"
    }
   ],
   "source": [
    "import datetime\n",
    "\n",
    "hw =   {\"author\": \"Charlot\",\n",
    "        \"hw\"    : \"Word Count\",\n",
    "        \"cmd\"   : \"line.lower()\",\n",
    "        \"tags\"  : [\"MapReduce\", \"word\", \"count\", \"normalization\"],\n",
    "        \"date\"  : datetime.datetime.utcnow()}\n",
    "hw"
   ]
  },
  {
   "cell_type": "code",
   "execution_count": 5,
   "metadata": {},
   "outputs": [
    {
     "data": {
      "text/plain": [
       "ObjectId('590f41e6fad5a50ab85f0d65')"
      ]
     },
     "execution_count": 5,
     "metadata": {},
     "output_type": "execute_result"
    }
   ],
   "source": [
    "# create a collection\n",
    "hws = db.hws\n",
    "# delete everything from hws\n",
    "db.hws.delete_many({})\n",
    "# insert one and get ID\n",
    "hw_id = hws.insert_one(hw).inserted_id\n",
    "hw_id"
   ]
  },
  {
   "cell_type": "code",
   "execution_count": 6,
   "metadata": {},
   "outputs": [
    {
     "data": {
      "text/plain": [
       "[u'hws']"
      ]
     },
     "execution_count": 6,
     "metadata": {},
     "output_type": "execute_result"
    }
   ],
   "source": [
    "# get list of collections \n",
    "db.collection_names(include_system_collections=False)"
   ]
  },
  {
   "cell_type": "code",
   "execution_count": 7,
   "metadata": {},
   "outputs": [
    {
     "data": {
      "text/plain": [
       "{u'_id': ObjectId('590f41e6fad5a50ab85f0d65'),\n",
       " u'author': u'Charlot',\n",
       " u'cmd': u'line.lower()',\n",
       " u'date': datetime.datetime(2017, 5, 7, 15, 48, 44, 550000),\n",
       " u'hw': u'Word Count',\n",
       " u'tags': [u'MapReduce', u'word', u'count', u'normalization']}"
      ]
     },
     "execution_count": 7,
     "metadata": {},
     "output_type": "execute_result"
    }
   ],
   "source": [
    "# find any\n",
    "hws.find_one()"
   ]
  },
  {
   "cell_type": "code",
   "execution_count": 8,
   "metadata": {},
   "outputs": [
    {
     "name": "stdout",
     "output_type": "stream",
     "text": [
      "{u'author': u'Charlot', u'tags': [u'MapReduce', u'word', u'count', u'normalization'], u'cmd': u'line.lower()', u'hw': u'Word Count', u'date': datetime.datetime(2017, 5, 7, 15, 48, 44, 550000), u'_id': ObjectId('590f41e6fad5a50ab85f0d65')}\n"
     ]
    }
   ],
   "source": [
    "# these two lines find the same doc\n",
    "print hws.find_one({'_id': hw_id})"
   ]
  },
  {
   "cell_type": "code",
   "execution_count": 9,
   "metadata": {},
   "outputs": [
    {
     "name": "stdout",
     "output_type": "stream",
     "text": [
      "{u'author': u'Charlot', u'tags': [u'MapReduce', u'word', u'count', u'normalization'], u'cmd': u'line.lower()', u'hw': u'Word Count', u'date': datetime.datetime(2017, 5, 7, 15, 48, 44, 550000), u'_id': ObjectId('590f41e6fad5a50ab85f0d65')}\n"
     ]
    }
   ],
   "source": [
    "print hws.find_one({'tags': 'MapReduce'})"
   ]
  },
  {
   "cell_type": "code",
   "execution_count": 10,
   "metadata": {},
   "outputs": [],
   "source": [
    "# create a list of dictionaries\n",
    "student_weekend_hws = [ {\"author\": \"Bernhardt\",\n",
    "        \"hw\"    : \"Word Count\",\n",
    "        \"cmd\"   : \"line.lower()\",\n",
    "        \"tags\"  : [\"MapReduce\", \"word\", \"count\", \"normalization\"],\n",
    "        \"date\"  : datetime.datetime.utcnow()},\n",
    "        \n",
    "       {\"author\": \"Jurgen\",\n",
    "        \"hw\"     : \"MongoDB\",\n",
    "        \"hrs\"    : 1,\n",
    "        \"cmd\"    : [ \"student_weekend_hws = []\", \"hws.insert_many(student_weekend_hws)\" ],\n",
    "        \"tags\"   : [\"big\", \"data\", \"nosql\"],\n",
    "        \"date\"   : datetime.datetime.utcnow()} ]"
   ]
  },
  {
   "cell_type": "code",
   "execution_count": 11,
   "metadata": {},
   "outputs": [
    {
     "data": {
      "text/plain": [
       "[ObjectId('590f4209fad5a50ab85f0d66'), ObjectId('590f4209fad5a50ab85f0d67')]"
      ]
     },
     "execution_count": 11,
     "metadata": {},
     "output_type": "execute_result"
    }
   ],
   "source": [
    "hws.insert_many(student_weekend_hws).inserted_ids"
   ]
  },
  {
   "cell_type": "code",
   "execution_count": 12,
   "metadata": {},
   "outputs": [
    {
     "name": "stdout",
     "output_type": "stream",
     "text": [
      "Charlot 2017-05-07 15:48:44.550000\n",
      "Bernhardt 2017-05-07 15:49:21.052000\n",
      "Jurgen 2017-05-07 15:49:21.052000\n",
      "3\n"
     ]
    }
   ],
   "source": [
    "for hw in hws.find():\n",
    "    print hw['author'], hw['date']\n",
    "    \n",
    "print hws.count()"
   ]
  },
  {
   "cell_type": "code",
   "execution_count": 16,
   "metadata": {},
   "outputs": [
    {
     "name": "stdout",
     "output_type": "stream",
     "text": [
      "{u'author': u'Bernhardt', u'tags': [u'MapReduce', u'word', u'count', u'normalization'], u'cmd': u'line.lower()', u'hw': u'Word Count', u'date': datetime.datetime(2017, 5, 7, 15, 49, 21, 52000), u'_id': ObjectId('590f4209fad5a50ab85f0d66')}\n",
      "{u'author': u'Charlot', u'tags': [u'MapReduce', u'word', u'count', u'normalization'], u'cmd': u'line.lower()', u'hw': u'Word Count', u'date': datetime.datetime(2017, 5, 7, 15, 48, 44, 550000), u'_id': ObjectId('590f41e6fad5a50ab85f0d65')}\n",
      "{u'author': u'Jurgen', u'tags': [u'big', u'data', u'nosql'], u'cmd': [u'student_weekend_hws = []', u'hws.insert_many(student_weekend_hws)'], u'hw': u'MongoDB', u'hrs': 1, u'date': datetime.datetime(2017, 5, 7, 15, 49, 21, 52000), u'_id': ObjectId('590f4209fad5a50ab85f0d67')}\n"
     ]
    }
   ],
   "source": [
    "# you need to change the following date time for proper querying (depending on\n",
    "# when the above was run)\n",
    "d = datetime.datetime(2017, 1, 6, 15, 0, 0, 0)\n",
    "for h in hws.find({\"date\": {\"$gt\": d}}).sort(\"author\"):\n",
    "    print h"
   ]
  },
  {
   "cell_type": "code",
   "execution_count": 17,
   "metadata": {},
   "outputs": [
    {
     "name": "stdout",
     "output_type": "stream",
     "text": [
      "3\n",
      "2\n"
     ]
    }
   ],
   "source": [
    "# can use remove in the same way\n",
    "print db.hws.count()\n",
    "id = db.hws.find_one()['_id']\n",
    "db.hws.delete_one({'_id': id})\n",
    "print db.hws.count()"
   ]
  },
  {
   "cell_type": "code",
   "execution_count": 18,
   "metadata": {},
   "outputs": [
    {
     "data": {
      "text/plain": [
       "[u'user_id_1', u'_id_']"
      ]
     },
     "execution_count": 18,
     "metadata": {},
     "output_type": "execute_result"
    }
   ],
   "source": [
    "# create index information\n",
    "db.profiles.delete_many({})\n",
    "result = db.profiles.create_index([('user_id', pymongo.ASCENDING)], unique=True)\n",
    "list(db.profiles.index_information())"
   ]
  },
  {
   "cell_type": "code",
   "execution_count": 19,
   "metadata": {},
   "outputs": [],
   "source": [
    "user_profiles = [ {'user_id': 1, 'name': 'Donna'},\n",
    "                  {'user_id': 2, 'name': 'Kenneth'},\n",
    "                  {'user_id': 3, 'name': 'Matthew'}]\n",
    "result = db.profiles.insert_many(user_profiles)"
   ]
  },
  {
   "cell_type": "code",
   "execution_count": 20,
   "metadata": {},
   "outputs": [
    {
     "data": {
      "text/plain": [
       "3"
      ]
     },
     "execution_count": 20,
     "metadata": {},
     "output_type": "execute_result"
    }
   ],
   "source": [
    "db.profiles.count()"
   ]
  },
  {
   "cell_type": "code",
   "execution_count": 21,
   "metadata": {},
   "outputs": [
    {
     "ename": "DuplicateKeyError",
     "evalue": "E11000 duplicate key error collection: big_data_processing.profiles index: user_id_1 dup key: { : 1 }",
     "output_type": "error",
     "traceback": [
      "\u001b[0;31m---------------------------------------------------------------------------\u001b[0m",
      "\u001b[0;31mDuplicateKeyError\u001b[0m                         Traceback (most recent call last)",
      "\u001b[0;32m<ipython-input-21-6d9870a7809d>\u001b[0m in \u001b[0;36m<module>\u001b[0;34m()\u001b[0m\n\u001b[1;32m      2\u001b[0m \u001b[0mduplicate_profile\u001b[0m \u001b[0;34m=\u001b[0m \u001b[0;34m{\u001b[0m\u001b[0;34m'user_id'\u001b[0m\u001b[0;34m:\u001b[0m \u001b[0;36m1\u001b[0m\u001b[0;34m,\u001b[0m \u001b[0;34m'name'\u001b[0m\u001b[0;34m:\u001b[0m \u001b[0;34m'Enrico'\u001b[0m\u001b[0;34m}\u001b[0m\u001b[0;34m\u001b[0m\u001b[0m\n\u001b[1;32m      3\u001b[0m \u001b[0mresult\u001b[0m \u001b[0;34m=\u001b[0m \u001b[0mdb\u001b[0m\u001b[0;34m.\u001b[0m\u001b[0mprofiles\u001b[0m\u001b[0;34m.\u001b[0m\u001b[0minsert_one\u001b[0m\u001b[0;34m(\u001b[0m\u001b[0mnew_profile\u001b[0m\u001b[0;34m)\u001b[0m  \u001b[0;31m# This is fine.\u001b[0m\u001b[0;34m\u001b[0m\u001b[0m\n\u001b[0;32m----> 4\u001b[0;31m \u001b[0mresult\u001b[0m \u001b[0;34m=\u001b[0m \u001b[0mdb\u001b[0m\u001b[0;34m.\u001b[0m\u001b[0mprofiles\u001b[0m\u001b[0;34m.\u001b[0m\u001b[0minsert_one\u001b[0m\u001b[0;34m(\u001b[0m\u001b[0mduplicate_profile\u001b[0m\u001b[0;34m)\u001b[0m \u001b[0;31m# this creates error\u001b[0m\u001b[0;34m\u001b[0m\u001b[0m\n\u001b[0m",
      "\u001b[0;32m/usr/local/lib/python2.7/dist-packages/pymongo-3.4.0-py2.7-linux-x86_64.egg/pymongo/collection.pyc\u001b[0m in \u001b[0;36minsert_one\u001b[0;34m(self, document, bypass_document_validation)\u001b[0m\n\u001b[1;32m    655\u001b[0m             return InsertOneResult(\n\u001b[1;32m    656\u001b[0m                 self._insert(sock_info, document,\n\u001b[0;32m--> 657\u001b[0;31m                              bypass_doc_val=bypass_document_validation),\n\u001b[0m\u001b[1;32m    658\u001b[0m                 self.write_concern.acknowledged)\n\u001b[1;32m    659\u001b[0m \u001b[0;34m\u001b[0m\u001b[0m\n",
      "\u001b[0;32m/usr/local/lib/python2.7/dist-packages/pymongo-3.4.0-py2.7-linux-x86_64.egg/pymongo/collection.pyc\u001b[0m in \u001b[0;36m_insert\u001b[0;34m(self, sock_info, docs, ordered, check_keys, manipulate, write_concern, op_id, bypass_doc_val)\u001b[0m\n\u001b[1;32m    560\u001b[0m             return self._insert_one(\n\u001b[1;32m    561\u001b[0m                 \u001b[0msock_info\u001b[0m\u001b[0;34m,\u001b[0m \u001b[0mdocs\u001b[0m\u001b[0;34m,\u001b[0m \u001b[0mordered\u001b[0m\u001b[0;34m,\u001b[0m\u001b[0;34m\u001b[0m\u001b[0m\n\u001b[0;32m--> 562\u001b[0;31m                 check_keys, manipulate, write_concern, op_id, bypass_doc_val)\n\u001b[0m\u001b[1;32m    563\u001b[0m \u001b[0;34m\u001b[0m\u001b[0m\n\u001b[1;32m    564\u001b[0m         \u001b[0mids\u001b[0m \u001b[0;34m=\u001b[0m \u001b[0;34m[\u001b[0m\u001b[0;34m]\u001b[0m\u001b[0;34m\u001b[0m\u001b[0m\n",
      "\u001b[0;32m/usr/local/lib/python2.7/dist-packages/pymongo-3.4.0-py2.7-linux-x86_64.egg/pymongo/collection.pyc\u001b[0m in \u001b[0;36m_insert_one\u001b[0;34m(self, sock_info, doc, ordered, check_keys, manipulate, write_concern, op_id, bypass_doc_val)\u001b[0m\n\u001b[1;32m    542\u001b[0m                 \u001b[0mcodec_options\u001b[0m\u001b[0;34m=\u001b[0m\u001b[0mself\u001b[0m\u001b[0;34m.\u001b[0m\u001b[0m__write_response_codec_options\u001b[0m\u001b[0;34m,\u001b[0m\u001b[0;34m\u001b[0m\u001b[0m\n\u001b[1;32m    543\u001b[0m                 check_keys=check_keys)\n\u001b[0;32m--> 544\u001b[0;31m             \u001b[0m_check_write_command_response\u001b[0m\u001b[0;34m(\u001b[0m\u001b[0;34m[\u001b[0m\u001b[0;34m(\u001b[0m\u001b[0;36m0\u001b[0m\u001b[0;34m,\u001b[0m \u001b[0mresult\u001b[0m\u001b[0;34m)\u001b[0m\u001b[0;34m]\u001b[0m\u001b[0;34m)\u001b[0m\u001b[0;34m\u001b[0m\u001b[0m\n\u001b[0m\u001b[1;32m    545\u001b[0m         \u001b[0;32melse\u001b[0m\u001b[0;34m:\u001b[0m\u001b[0;34m\u001b[0m\u001b[0m\n\u001b[1;32m    546\u001b[0m             \u001b[0;31m# Legacy OP_INSERT.\u001b[0m\u001b[0;34m\u001b[0m\u001b[0;34m\u001b[0m\u001b[0m\n",
      "\u001b[0;32m/usr/local/lib/python2.7/dist-packages/pymongo-3.4.0-py2.7-linux-x86_64.egg/pymongo/helpers.pyc\u001b[0m in \u001b[0;36m_check_write_command_response\u001b[0;34m(results)\u001b[0m\n\u001b[1;32m    312\u001b[0m             \u001b[0merror\u001b[0m\u001b[0;34m[\u001b[0m\u001b[0;34m\"index\"\u001b[0m\u001b[0;34m]\u001b[0m \u001b[0;34m+=\u001b[0m \u001b[0moffset\u001b[0m\u001b[0;34m\u001b[0m\u001b[0m\n\u001b[1;32m    313\u001b[0m             \u001b[0;32mif\u001b[0m \u001b[0merror\u001b[0m\u001b[0;34m.\u001b[0m\u001b[0mget\u001b[0m\u001b[0;34m(\u001b[0m\u001b[0;34m\"code\"\u001b[0m\u001b[0;34m)\u001b[0m \u001b[0;34m==\u001b[0m \u001b[0;36m11000\u001b[0m\u001b[0;34m:\u001b[0m\u001b[0;34m\u001b[0m\u001b[0m\n\u001b[0;32m--> 314\u001b[0;31m                 \u001b[0;32mraise\u001b[0m \u001b[0mDuplicateKeyError\u001b[0m\u001b[0;34m(\u001b[0m\u001b[0merror\u001b[0m\u001b[0;34m.\u001b[0m\u001b[0mget\u001b[0m\u001b[0;34m(\u001b[0m\u001b[0;34m\"errmsg\"\u001b[0m\u001b[0;34m)\u001b[0m\u001b[0;34m,\u001b[0m \u001b[0;36m11000\u001b[0m\u001b[0;34m,\u001b[0m \u001b[0merror\u001b[0m\u001b[0;34m)\u001b[0m\u001b[0;34m\u001b[0m\u001b[0m\n\u001b[0m\u001b[1;32m    315\u001b[0m             \u001b[0;32mraise\u001b[0m \u001b[0mWriteError\u001b[0m\u001b[0;34m(\u001b[0m\u001b[0merror\u001b[0m\u001b[0;34m.\u001b[0m\u001b[0mget\u001b[0m\u001b[0;34m(\u001b[0m\u001b[0;34m\"errmsg\"\u001b[0m\u001b[0;34m)\u001b[0m\u001b[0;34m,\u001b[0m \u001b[0merror\u001b[0m\u001b[0;34m.\u001b[0m\u001b[0mget\u001b[0m\u001b[0;34m(\u001b[0m\u001b[0;34m\"code\"\u001b[0m\u001b[0;34m)\u001b[0m\u001b[0;34m,\u001b[0m \u001b[0merror\u001b[0m\u001b[0;34m)\u001b[0m\u001b[0;34m\u001b[0m\u001b[0m\n\u001b[1;32m    316\u001b[0m         \u001b[0;32melse\u001b[0m\u001b[0;34m:\u001b[0m\u001b[0;34m\u001b[0m\u001b[0m\n",
      "\u001b[0;31mDuplicateKeyError\u001b[0m: E11000 duplicate key error collection: big_data_processing.profiles index: user_id_1 dup key: { : 1 }"
     ]
    }
   ],
   "source": [
    "new_profile = {'user_id': 4, 'name': 'Maurice'}\n",
    "duplicate_profile = {'user_id': 1, 'name': 'Enrico'}\n",
    "result = db.profiles.insert_one(new_profile)  # This is fine.\n",
    "result = db.profiles.insert_one(duplicate_profile) # this creates error"
   ]
  },
  {
   "cell_type": "code",
   "execution_count": 22,
   "metadata": {},
   "outputs": [
    {
     "name": "stdout",
     "output_type": "stream",
     "text": [
      "{u'_id': ObjectId('590f427dfad5a50ab85f0d68'), u'user_id': 1, u'name': u'Donna'}\n",
      "{u'_id': ObjectId('590f427dfad5a50ab85f0d69'), u'user_id': 2, u'name': u'Kenneth'}\n",
      "{u'_id': ObjectId('590f427dfad5a50ab85f0d6a'), u'user_id': 3, u'name': u'Matthew'}\n",
      "{u'_id': ObjectId('590f4281fad5a50ab85f0d6b'), u'user_id': 4, u'name': u'Maurice'}\n"
     ]
    }
   ],
   "source": [
    "# see all user profiles\n",
    "for p in db.profiles.find():\n",
    "    print p"
   ]
  },
  {
   "cell_type": "code",
   "execution_count": 23,
   "metadata": {},
   "outputs": [
    {
     "name": "stdout",
     "output_type": "stream",
     "text": [
      "[{u'_id': ObjectId('590f4281fad5a50ab85f0d6b'), u'user_id': 4, u'name': u'Maurice'}]\n"
     ]
    }
   ],
   "source": [
    "print [ x for x in db.profiles.find({\"name\": \"Maurice\"}) ]"
   ]
  },
  {
   "cell_type": "code",
   "execution_count": null,
   "metadata": {
    "collapsed": true
   },
   "outputs": [],
   "source": []
  }
 ],
 "metadata": {
  "kernelspec": {
   "display_name": "Python 2",
   "language": "python",
   "name": "python2"
  },
  "language_info": {
   "codemirror_mode": {
    "name": "ipython",
    "version": 2
   },
   "file_extension": ".py",
   "mimetype": "text/x-python",
   "name": "python",
   "nbconvert_exporter": "python",
   "pygments_lexer": "ipython2",
   "version": "2.7.12"
  }
 },
 "nbformat": 4,
 "nbformat_minor": 1
}
