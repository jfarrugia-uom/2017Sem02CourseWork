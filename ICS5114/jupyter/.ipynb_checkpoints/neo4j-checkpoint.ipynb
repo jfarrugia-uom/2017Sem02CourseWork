{
 "cells": [
  {
   "cell_type": "code",
   "execution_count": 1,
   "metadata": {},
   "outputs": [
    {
     "ename": "ImportError",
     "evalue": "No module named py2neo",
     "output_type": "error",
     "traceback": [
      "\u001b[0;31m---------------------------------------------------------------------------\u001b[0m",
      "\u001b[0;31mImportError\u001b[0m                               Traceback (most recent call last)",
      "\u001b[0;32m<ipython-input-1-88e6a64b4a51>\u001b[0m in \u001b[0;36m<module>\u001b[0;34m()\u001b[0m\n\u001b[0;32m----> 1\u001b[0;31m \u001b[0;32mfrom\u001b[0m \u001b[0mpy2neo\u001b[0m \u001b[0;32mimport\u001b[0m \u001b[0mGraph\u001b[0m\u001b[0;34m,\u001b[0m \u001b[0mNode\u001b[0m\u001b[0;34m,\u001b[0m \u001b[0mRelationship\u001b[0m\u001b[0;34m,\u001b[0m \u001b[0mPath\u001b[0m \u001b[0;31m# import or necessary classes\u001b[0m\u001b[0;34m\u001b[0m\u001b[0m\n\u001b[0m",
      "\u001b[0;31mImportError\u001b[0m: No module named py2neo"
     ]
    }
   ],
   "source": [
    "from py2neo import Graph, Node, Relationship, Path # import or necessary classes"
   ]
  },
  {
   "cell_type": "markdown",
   "metadata": {},
   "source": [
    "**Note**: to be able to connect successfully you will need to set option `dbms.security.auth_enabled` to `false` in `/etc/neo4j/neo4j-server.conf`.  You will need to edit this as a super user.  This works for Cassandra version 3.x, in version 2 this file is called `neo4j.conf`."
   ]
  },
  {
   "cell_type": "code",
   "execution_count": 2,
   "metadata": {},
   "outputs": [
    {
     "ename": "NameError",
     "evalue": "name 'Graph' is not defined",
     "output_type": "error",
     "traceback": [
      "\u001b[0;31m---------------------------------------------------------------------------\u001b[0m",
      "\u001b[0;31mNameError\u001b[0m                                 Traceback (most recent call last)",
      "\u001b[0;32m<ipython-input-2-73011982a83d>\u001b[0m in \u001b[0;36m<module>\u001b[0;34m()\u001b[0m\n\u001b[0;32m----> 1\u001b[0;31m \u001b[0mgraph\u001b[0m \u001b[0;34m=\u001b[0m \u001b[0mGraph\u001b[0m\u001b[0;34m(\u001b[0m\u001b[0;34m\"http://localhost:7474/db/data/\"\u001b[0m\u001b[0;34m)\u001b[0m \u001b[0;31m# namespace for our db (neo4j stores everything there)\u001b[0m\u001b[0;34m\u001b[0m\u001b[0m\n\u001b[0m\u001b[1;32m      2\u001b[0m \u001b[0mgraph\u001b[0m\u001b[0;34m.\u001b[0m\u001b[0mdelete_all\u001b[0m\u001b[0;34m(\u001b[0m\u001b[0;34m)\u001b[0m\u001b[0;34m\u001b[0m\u001b[0m\n",
      "\u001b[0;31mNameError\u001b[0m: name 'Graph' is not defined"
     ]
    }
   ],
   "source": [
    "graph = Graph(\"http://localhost:7474/db/data/\") # namespace for our db (neo4j stores everything there)\n",
    "graph.delete_all()"
   ]
  },
  {
   "cell_type": "code",
   "execution_count": 5,
   "metadata": {},
   "outputs": [],
   "source": [
    "# the data\n",
    "jp = Node(\"Person\", name=\"JP\", email=\"jean.p.ebejer@um.edu.mt\")\n",
    "kenneth = Node(\"Person\", name=\"Kenneth\")\n",
    "charlot = Node(\"Person\", name=\"Charlot\")\n",
    "isaac = Node(\"Person\", name=\"Isaac\")\n",
    "jp_lect_kenneth = Relationship(jp, \"LECTURES\", kenneth)\n",
    "jp_lect_charlot = Relationship(jp, \"LECTURES\", charlot)\n",
    "charlot_friend_isaac = Relationship(charlot, \"FRIEND\", isaac)\n",
    "charlot_friend_kenneth = Relationship(charlot, \"FRIEND\", kenneth, until=\"Mar 2016\")"
   ]
  },
  {
   "cell_type": "code",
   "execution_count": 6,
   "metadata": {},
   "outputs": [],
   "source": [
    "# create the graph\n",
    "graph.create(jp)\n",
    "graph.create(kenneth)\n",
    "graph.create(charlot)\n",
    "graph.create(isaac)\n",
    "graph.create(jp_lect_kenneth)\n",
    "graph.create(jp_lect_charlot)\n",
    "graph.create(charlot_friend_isaac)\n",
    "graph.create(charlot_friend_kenneth)"
   ]
  },
  {
   "cell_type": "markdown",
   "metadata": {},
   "source": [
    "You can find a really useful tool at [http://localhost:7474/browser/]"
   ]
  },
  {
   "cell_type": "code",
   "execution_count": 7,
   "metadata": {},
   "outputs": [
    {
     "name": "stdout",
     "output_type": "stream",
     "text": [
      "JP\n",
      "Kenneth\n",
      "Charlot\n",
      "Isaac\n"
     ]
    }
   ],
   "source": [
    "# Example of the cypher language\n",
    "for record in graph.run(\"MATCH (p:Person) RETURN p.name AS name\"):\n",
    "    print(record['name'])"
   ]
  },
  {
   "cell_type": "code",
   "execution_count": 8,
   "metadata": {},
   "outputs": [
    {
     "data": {
      "text/plain": [
       "{u'email': u'jean.p.ebejer@um.edu.mt', u'name': u'JP'}"
      ]
     },
     "execution_count": 8,
     "metadata": {},
     "output_type": "execute_result"
    }
   ],
   "source": [
    "dict(jp) # props of a node"
   ]
  },
  {
   "cell_type": "code",
   "execution_count": 9,
   "metadata": {},
   "outputs": [
    {
     "data": {
      "text/plain": [
       "frozenset({u'FRIEND', u'LECTURES'})"
      ]
     },
     "execution_count": 9,
     "metadata": {},
     "output_type": "execute_result"
    }
   ],
   "source": [
    "graph.relationship_types # edge types"
   ]
  },
  {
   "cell_type": "code",
   "execution_count": 1,
   "metadata": {},
   "outputs": [
    {
     "ename": "NameError",
     "evalue": "name 'graph' is not defined",
     "output_type": "error",
     "traceback": [
      "\u001b[0;31m---------------------------------------------------------------------------\u001b[0m",
      "\u001b[0;31mNameError\u001b[0m                                 Traceback (most recent call last)",
      "\u001b[0;32m<ipython-input-1-3da37b5adfc2>\u001b[0m in \u001b[0;36m<module>\u001b[0;34m()\u001b[0m\n\u001b[0;32m----> 1\u001b[0;31m \u001b[0mcur\u001b[0m \u001b[0;34m=\u001b[0m \u001b[0mgraph\u001b[0m\u001b[0;34m.\u001b[0m\u001b[0mrun\u001b[0m\u001b[0;34m(\u001b[0m\u001b[0;34m\"START n=node(*) return n\"\u001b[0m\u001b[0;34m)\u001b[0m \u001b[0;31m# return all nodes\u001b[0m\u001b[0;34m\u001b[0m\u001b[0m\n\u001b[0m\u001b[1;32m      2\u001b[0m \u001b[0;32mfor\u001b[0m \u001b[0mrecord\u001b[0m \u001b[0;32min\u001b[0m \u001b[0mcur\u001b[0m\u001b[0;34m:\u001b[0m\u001b[0;34m\u001b[0m\u001b[0m\n\u001b[1;32m      3\u001b[0m     \u001b[0;32mprint\u001b[0m\u001b[0;34m(\u001b[0m\u001b[0mrecord\u001b[0m\u001b[0;34m[\u001b[0m\u001b[0;34m'n'\u001b[0m\u001b[0;34m]\u001b[0m\u001b[0;34m[\u001b[0m\u001b[0;34m'name'\u001b[0m\u001b[0;34m]\u001b[0m\u001b[0;34m)\u001b[0m\u001b[0;34m\u001b[0m\u001b[0m\n",
      "\u001b[0;31mNameError\u001b[0m: name 'graph' is not defined"
     ]
    }
   ],
   "source": [
    "# Note:  If using cassandra 2, you should use graph.cypher.execute (which is deprecated in v3)\n",
    "# More details at: http://py2neo.org/v3/database.html\n",
    "\n",
    "cur = graph.run(\"START n=node(*) return n\") # return all nodes\n",
    "for record in cur:\n",
    "    print(record['n']['name'])"
   ]
  },
  {
   "cell_type": "code",
   "execution_count": 11,
   "metadata": {},
   "outputs": [
    {
     "name": "stdout",
     "output_type": "stream",
     "text": [
      "(jp)-[:LECTURES]->(charlot)\n",
      "Charlot\n",
      "(jp)-[:LECTURES]->(kenneth)\n",
      "Kenneth\n"
     ]
    }
   ],
   "source": [
    "# who does JP lecture ?\n",
    "for n in graph.match(start_node=jp, rel_type=\"LECTURES\"): \n",
    "    print n\n",
    "    print(n.end_node()['name'])"
   ]
  },
  {
   "cell_type": "code",
   "execution_count": 14,
   "metadata": {
    "collapsed": true
   },
   "outputs": [],
   "source": [
    "# Isaac and Kenneth are not directly joined by an edge, so no results found\n",
    "for n in graph.match(start_node=isaac, end_node=kenneth, bidirectional=True):\n",
    "    print(n)"
   ]
  },
  {
   "cell_type": "code",
   "execution_count": 15,
   "metadata": {},
   "outputs": [
    {
     "name": "stdout",
     "output_type": "stream",
     "text": [
      "(u'x': (charlot:Person {name:\"Charlot\"}))\n",
      "(u'x': (isaac:Person {name:\"Isaac\"}))\n"
     ]
    }
   ],
   "source": [
    "# from Kenneth traverse all FRIEND paths (bidirectional)\n",
    "# cycles are considered once\n",
    "n = graph.run('MATCH (Person { name:\"Kenneth\" })-[:FRIEND*1..]-(x) RETURN x')\n",
    "for c in n:\n",
    "    print c"
   ]
  },
  {
   "cell_type": "code",
   "execution_count": null,
   "metadata": {
    "collapsed": true
   },
   "outputs": [],
   "source": []
  }
 ],
 "metadata": {
  "anaconda-cloud": {},
  "kernelspec": {
   "display_name": "Python 2",
   "language": "python",
   "name": "python2"
  },
  "language_info": {
   "codemirror_mode": {
    "name": "ipython",
    "version": 2
   },
   "file_extension": ".py",
   "mimetype": "text/x-python",
   "name": "python",
   "nbconvert_exporter": "python",
   "pygments_lexer": "ipython2",
   "version": "2.7.12"
  }
 },
 "nbformat": 4,
 "nbformat_minor": 1
}
