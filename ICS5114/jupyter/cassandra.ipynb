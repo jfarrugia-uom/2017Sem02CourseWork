{
 "cells": [
  {
   "cell_type": "code",
   "execution_count": 1,
   "metadata": {
    "scrolled": false
   },
   "outputs": [],
   "source": [
    "from cassandra.cluster import Cluster\n",
    "import uuid"
   ]
  },
  {
   "cell_type": "markdown",
   "metadata": {},
   "source": [
    "Tested on (from ```cqlsh``` header):\n",
    "\n",
    "```[cqlsh 5.0.1 | Cassandra 3.0.9 | CQL spec 3.4.0 | Native protocol v4]```"
   ]
  },
  {
   "cell_type": "code",
   "execution_count": 3,
   "metadata": {},
   "outputs": [
    {
     "data": {
      "text/plain": [
       "<cassandra.cluster.ResultSet at 0x7f921c20b650>"
      ]
     },
     "execution_count": 3,
     "metadata": {},
     "output_type": "execute_result"
    }
   ],
   "source": [
    "# you need to connect first using sudo cassandra -f otherwise connection err\n",
    "cluster = Cluster(['127.0.0.1']) # can support multiple IPs\n",
    "session = cluster.connect()\n",
    "keyspace = \"ict\"\n",
    "\n",
    "# this is for cleaning\n",
    "session.execute(\"DROP KEYSPACE IF EXISTS %s\" % keyspace)\n"
   ]
  },
  {
   "cell_type": "code",
   "execution_count": 4,
   "metadata": {},
   "outputs": [
    {
     "data": {
      "text/plain": [
       "<cassandra.cluster.ResultSet at 0x7f921c22f710>"
      ]
     },
     "execution_count": 4,
     "metadata": {},
     "output_type": "execute_result"
    }
   ],
   "source": [
    "# create the ict keyspace\n",
    "session.execute(\"\"\"\n",
    "        CREATE KEYSPACE %s\n",
    "        WITH replication = { 'class': 'SimpleStrategy', 'replication_factor': '1' }\n",
    "        \"\"\" % keyspace)"
   ]
  },
  {
   "cell_type": "code",
   "execution_count": 5,
   "metadata": {
    "collapsed": true
   },
   "outputs": [],
   "source": [
    "# use it \n",
    "session.set_keyspace(keyspace)"
   ]
  },
  {
   "cell_type": "code",
   "execution_count": 6,
   "metadata": {},
   "outputs": [
    {
     "data": {
      "text/plain": [
       "<cassandra.cluster.ResultSet at 0x7f922c193310>"
      ]
     },
     "execution_count": 6,
     "metadata": {},
     "output_type": "execute_result"
    }
   ],
   "source": [
    "# remove the data stores if this already exists (perhaps a previous run)\n",
    "session.execute(\"drop table if exists student\")\n",
    "session.execute(\"\"\"\n",
    "        CREATE TABLE student (\n",
    "            studid uuid,\n",
    "            name text,\n",
    "            surname text,\n",
    "            email text,\n",
    "            PRIMARY KEY (studid)\n",
    "        )\n",
    "        \"\"\")"
   ]
  },
  {
   "cell_type": "code",
   "execution_count": 7,
   "metadata": {},
   "outputs": [
    {
     "data": {
      "text/plain": [
       "<cassandra.cluster.ResultSet at 0x7f921c1acc90>"
      ]
     },
     "execution_count": 7,
     "metadata": {},
     "output_type": "execute_result"
    }
   ],
   "source": [
    "# uuid is generated from python module with same name\n",
    "session.execute(\n",
    "    \"\"\"\n",
    "    INSERT INTO student (name, surname, email, studid)\n",
    "    VALUES (%s, %s, %s, %s)\n",
    "    \"\"\",\n",
    "    (\"Stephen\", \"Camilleri\", \"dc@facebook.com\", uuid.uuid1())\n",
    ")"
   ]
  },
  {
   "cell_type": "code",
   "execution_count": 13,
   "metadata": {},
   "outputs": [
    {
     "name": "stdout",
     "output_type": "stream",
     "text": [
      "ec084d7a-3354-11e7-a29f-080027346807 Stephen Camilleri dc@facebook.com\n"
     ]
    }
   ],
   "source": [
    "# get the student and pri\n",
    "rows = session.execute('SELECT studid, name, surname, email FROM student')\n",
    "for stud in rows:\n",
    "    print stud.studid, stud.name, stud.surname, stud.email"
   ]
  },
  {
   "cell_type": "code",
   "execution_count": 9,
   "metadata": {},
   "outputs": [
    {
     "name": "stdout",
     "output_type": "stream",
     "text": [
      "Stephen Camilleri ec084d7a-3354-11e7-a29f-080027346807\n"
     ]
    }
   ],
   "source": [
    "## async\n",
    "\n",
    "def handle_success(rows):\n",
    "    stud = rows[0]\n",
    "    print stud.name, stud.surname, stud.studid\n",
    "\n",
    "def handle_error(exception):\n",
    "    print exception\n",
    "\n",
    "# sometimes (mostly the first time) nothing is shown here.  Why?  hint: async\n",
    "future = session.execute_async('SELECT studid, name, surname, email FROM student')\n",
    "future.add_callbacks(handle_success, handle_error)"
   ]
  },
  {
   "cell_type": "markdown",
   "metadata": {},
   "source": [
    "Doing a delete without specifying the primary key would mean Cassandra would have to first do the distributed search to get all of the records. Then internally issue the delete for all of those records. While it would be possible to implement, it is very different from the current write path inside Cassandra.  Good to know limitations."
   ]
  },
  {
   "cell_type": "code",
   "execution_count": 11,
   "metadata": {},
   "outputs": [
    {
     "ename": "InvalidRequest",
     "evalue": "Error from server: code=2200 [Invalid query] message=\"Some partition key parts are missing: studid\"",
     "output_type": "error",
     "traceback": [
      "\u001b[0;31m---------------------------------------------------------------------------\u001b[0m",
      "\u001b[0;31mInvalidRequest\u001b[0m                            Traceback (most recent call last)",
      "\u001b[0;32m<ipython-input-11-de0d929e5a71>\u001b[0m in \u001b[0;36m<module>\u001b[0;34m()\u001b[0m\n\u001b[0;32m----> 1\u001b[0;31m \u001b[0msession\u001b[0m\u001b[0;34m.\u001b[0m\u001b[0mexecute\u001b[0m\u001b[0;34m(\u001b[0m\u001b[0;34m\"delete from student where name = 'Stephen'\"\u001b[0m\u001b[0;34m)\u001b[0m \u001b[0;31m# this does not work, why?\u001b[0m\u001b[0;34m\u001b[0m\u001b[0m\n\u001b[0m",
      "\u001b[0;32m/usr/local/lib/python2.7/dist-packages/cassandra/cluster.so\u001b[0m in \u001b[0;36mcassandra.cluster.Session.execute (cassandra/cluster.c:35502)\u001b[0;34m()\u001b[0m\n",
      "\u001b[0;32m/usr/local/lib/python2.7/dist-packages/cassandra/cluster.so\u001b[0m in \u001b[0;36mcassandra.cluster.ResponseFuture.result (cassandra/cluster.c:74332)\u001b[0;34m()\u001b[0m\n",
      "\u001b[0;31mInvalidRequest\u001b[0m: Error from server: code=2200 [Invalid query] message=\"Some partition key parts are missing: studid\""
     ]
    }
   ],
   "source": [
    "session.execute(\"delete from student where studid = 'ec084d7a-3354-11e7-a29f-080027346807'\") # this does not work, why?\n"
   ]
  },
  {
   "cell_type": "code",
   "execution_count": 14,
   "metadata": {},
   "outputs": [
    {
     "name": "stdout",
     "output_type": "stream",
     "text": [
      "ec084d7a-3354-11e7-a29f-080027346807\n"
     ]
    }
   ],
   "source": [
    "result = session.execute(\"select * from student\")\n",
    "for r in result:\n",
    "    print r.studid"
   ]
  },
  {
   "cell_type": "code",
   "execution_count": 15,
   "metadata": {},
   "outputs": [
    {
     "data": {
      "text/plain": [
       "<cassandra.cluster.ResultSet at 0x7f921c1e8090>"
      ]
     },
     "execution_count": 15,
     "metadata": {},
     "output_type": "execute_result"
    }
   ],
   "source": [
    "session.execute(\"delete from student where studid = %s\" % r.studid) # this works"
   ]
  },
  {
   "cell_type": "code",
   "execution_count": 16,
   "metadata": {
    "collapsed": true
   },
   "outputs": [],
   "source": [
    "result = session.execute(\"select * from student\") # Stephen, gone with the wind\n",
    "for r in result:\n",
    "    print r.studid"
   ]
  },
  {
   "cell_type": "code",
   "execution_count": null,
   "metadata": {
    "collapsed": true
   },
   "outputs": [],
   "source": []
  }
 ],
 "metadata": {
  "anaconda-cloud": {},
  "kernelspec": {
   "display_name": "Python 2",
   "language": "python",
   "name": "python2"
  },
  "language_info": {
   "codemirror_mode": {
    "name": "ipython",
    "version": 2
   },
   "file_extension": ".py",
   "mimetype": "text/x-python",
   "name": "python",
   "nbconvert_exporter": "python",
   "pygments_lexer": "ipython2",
   "version": "2.7.12"
  }
 },
 "nbformat": 4,
 "nbformat_minor": 1
}
