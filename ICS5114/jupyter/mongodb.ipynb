{
 "cells": [
  {
   "cell_type": "code",
   "execution_count": null,
   "metadata": {
    "collapsed": true
   },
   "outputs": [],
   "source": [
    "import pymongo # this gives a security warning in some cases"
   ]
  },
  {
   "cell_type": "code",
   "execution_count": null,
   "metadata": {
    "collapsed": true
   },
   "outputs": [],
   "source": [
    "client = pymongo.MongoClient('mongodb://localhost:27017/') # connect to DS\n",
    "client.database_names() # show names\n",
    "if 'big_data_processing' in client.database_names(): # if data_science already exists, drop\n",
    "    client.drop_database('big_data_processing')"
   ]
  },
  {
   "cell_type": "code",
   "execution_count": null,
   "metadata": {},
   "outputs": [],
   "source": [
    "\n",
    "db = client.big_data_processing\n",
    "db"
   ]
  },
  {
   "cell_type": "code",
   "execution_count": null,
   "metadata": {},
   "outputs": [],
   "source": [
    "import datetime\n",
    "\n",
    "hw =   {\"author\": \"Charlot\",\n",
    "        \"hw\"    : \"Word Count\",\n",
    "        \"cmd\"   : \"line.lower()\",\n",
    "        \"tags\"  : [\"MapReduce\", \"word\", \"count\", \"normalization\"],\n",
    "        \"date\"  : datetime.datetime.utcnow()}\n",
    "hw"
   ]
  },
  {
   "cell_type": "code",
   "execution_count": null,
   "metadata": {},
   "outputs": [],
   "source": [
    "# create a collection\n",
    "hws = db.hws\n",
    "# delete everything from hws\n",
    "db.hws.delete_many({})\n",
    "# insert one and get ID\n",
    "hw_id = hws.insert_one(hw).inserted_id\n",
    "hw_id"
   ]
  },
  {
   "cell_type": "code",
   "execution_count": null,
   "metadata": {},
   "outputs": [],
   "source": [
    "# get list of collections \n",
    "db.collection_names(include_system_collections=False)"
   ]
  },
  {
   "cell_type": "code",
   "execution_count": null,
   "metadata": {},
   "outputs": [],
   "source": [
    "# find any\n",
    "hws.find_one()"
   ]
  },
  {
   "cell_type": "code",
   "execution_count": null,
   "metadata": {},
   "outputs": [],
   "source": [
    "# these two lines find the same doc\n",
    "print hws.find_one({'_id': hw_id})"
   ]
  },
  {
   "cell_type": "code",
   "execution_count": null,
   "metadata": {},
   "outputs": [],
   "source": [
    "print hws.find_one({'tags': 'MapReduce'})"
   ]
  },
  {
   "cell_type": "code",
   "execution_count": null,
   "metadata": {
    "collapsed": true
   },
   "outputs": [],
   "source": [
    "# create a list of dictionaries\n",
    "student_weekend_hws = [ {\"author\": \"Bernhardt\",\n",
    "        \"hw\"    : \"Word Count\",\n",
    "        \"cmd\"   : \"line.lower()\",\n",
    "        \"tags\"  : [\"MapReduce\", \"word\", \"count\", \"normalization\"],\n",
    "        \"date\"  : datetime.datetime.utcnow()},\n",
    "        \n",
    "       {\"author\": \"Jurgen\",\n",
    "        \"hw\"     : \"MongoDB\",\n",
    "        \"hrs\"    : 1,\n",
    "        \"cmd\"    : [ \"student_weekend_hws = []\", \"hws.insert_many(student_weekend_hws)\" ],\n",
    "        \"tags\"   : [\"big\", \"data\", \"nosql\"],\n",
    "        \"date\"   : datetime.datetime.utcnow()} ]"
   ]
  },
  {
   "cell_type": "code",
   "execution_count": null,
   "metadata": {},
   "outputs": [],
   "source": [
    "hws.insert_many(student_weekend_hws).inserted_ids"
   ]
  },
  {
   "cell_type": "code",
   "execution_count": null,
   "metadata": {},
   "outputs": [],
   "source": [
    "for hw in hws.find():\n",
    "    print hw['author'], hw['date']\n",
    "    \n",
    "print hws.count()"
   ]
  },
  {
   "cell_type": "code",
   "execution_count": null,
   "metadata": {},
   "outputs": [],
   "source": [
    "# you need to change the following date time for proper querying (depending on\n",
    "# when the above was run)\n",
    "d = datetime.datetime(2017, 1, 6, 15, 0, 0, 0)\n",
    "for h in hws.find({\"date\": {\"$gt\": d}}).sort(\"author\"):\n",
    "    print h"
   ]
  },
  {
   "cell_type": "code",
   "execution_count": null,
   "metadata": {},
   "outputs": [],
   "source": [
    "# can use remove in the same way\n",
    "print db.hws.count()\n",
    "id = db.hws.find_one()['_id']\n",
    "db.hws.delete_one({'_id': id})\n",
    "print db.hws.count()"
   ]
  },
  {
   "cell_type": "code",
   "execution_count": null,
   "metadata": {},
   "outputs": [],
   "source": [
    "# create index information\n",
    "db.profiles.delete_many({})\n",
    "result = db.profiles.create_index([('user_id', pymongo.ASCENDING)], unique=True)\n",
    "list(db.profiles.index_information())"
   ]
  },
  {
   "cell_type": "code",
   "execution_count": null,
   "metadata": {
    "collapsed": true
   },
   "outputs": [],
   "source": [
    "user_profiles = [ {'user_id': 1, 'name': 'Donna'},\n",
    "                  {'user_id': 2, 'name': 'Kenneth'},\n",
    "                  {'user_id': 3, 'name': 'Matthew'}]\n",
    "result = db.profiles.insert_many(user_profiles)"
   ]
  },
  {
   "cell_type": "code",
   "execution_count": null,
   "metadata": {},
   "outputs": [],
   "source": [
    "db.profiles.count()"
   ]
  },
  {
   "cell_type": "code",
   "execution_count": null,
   "metadata": {},
   "outputs": [],
   "source": [
    "new_profile = {'user_id': 4, 'name': 'Maurice'}\n",
    "duplicate_profile = {'user_id': 1, 'name': 'Enrico'}\n",
    "result = db.profiles.insert_one(new_profile)  # This is fine.\n",
    "result = db.profiles.insert_one(duplicate_profile) # this creates error"
   ]
  },
  {
   "cell_type": "code",
   "execution_count": null,
   "metadata": {},
   "outputs": [],
   "source": [
    "# see all user profiles\n",
    "for p in db.profiles.find():\n",
    "    print p"
   ]
  },
  {
   "cell_type": "code",
   "execution_count": null,
   "metadata": {},
   "outputs": [],
   "source": [
    "print [ x for x in db.profiles.find({\"name\": \"Maurice\"}) ]"
   ]
  },
  {
   "cell_type": "code",
   "execution_count": null,
   "metadata": {
    "collapsed": true
   },
   "outputs": [],
   "source": []
  }
 ],
 "metadata": {
  "kernelspec": {
   "display_name": "Python 2",
   "language": "python",
   "name": "python2"
  },
  "language_info": {
   "codemirror_mode": {
    "name": "ipython",
    "version": 2
   },
   "file_extension": ".py",
   "mimetype": "text/x-python",
   "name": "python",
   "nbconvert_exporter": "python",
   "pygments_lexer": "ipython2",
   "version": "2.7.12"
  }
 },
 "nbformat": 4,
 "nbformat_minor": 1
}
